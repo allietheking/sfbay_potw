{
 "cells": [
  {
   "cell_type": "markdown",
   "metadata": {},
   "source": [
    "# Synthesize \n",
    "\n",
    "Take the parsed, cleaned data, and synthesize a long-term daily record for the constituents\n",
    "currently going into the model.\n",
    "\n",
    "Specifically, this means\n",
    " - 2000 - 2016\n",
    " - NOx, NH3, OrthoP\n",
    " - False Delta sources, plus the 40+ discharges in the Bay."
   ]
  },
  {
   "cell_type": "code",
   "execution_count": 20,
   "metadata": {
    "collapsed": false
   },
   "outputs": [],
   "source": [
    "from __future__ import print_function\n",
    "import six\n",
    "import pandas as pd\n",
    "\n",
    "import xarray as xr\n",
    "import numpy as np\n",
    "import matplotlib.pyplot as plt\n",
    "import datetime\n",
    "import utils\n",
    "import glob\n",
    "import os\n",
    "%matplotlib notebook "
   ]
  },
  {
   "cell_type": "code",
   "execution_count": 14,
   "metadata": {
    "collapsed": false
   },
   "outputs": [],
   "source": [
    "compile_dir=\"../outputs/intermediate\""
   ]
  },
  {
   "cell_type": "code",
   "execution_count": 96,
   "metadata": {
    "collapsed": false
   },
   "outputs": [
    {
     "name": "stdout",
     "output_type": "stream",
     "text": [
      "Generating daily data from 2000-01-01 to 2015-12-31 for 5844 time points\n"
     ]
    }
   ],
   "source": [
    "date_start=datetime.datetime(2000,1,1)\n",
    "date_end  =datetime.datetime(2015,12,31)\n",
    "\n",
    "dn_start=utils.to_dnum(date_start)\n",
    "dn_end  =utils.to_dnum(date_end)\n",
    "\n",
    "dns=np.arange(dn_start,dn_end+1)\n",
    "fmt='%Y-%m-%d'\n",
    "print(\"Generating daily data from %s to %s for %d time points\"%(date_start.strftime(fmt),\n",
    "                                                                date_end.strftime(fmt),\n",
    "                                                                len(dns)))\n",
    "ds=xr.Dataset()\n",
    "ds['time']=utils.to_dt64(dns)\n",
    "analytes=['flow',\n",
    "          'NOx_conc','NH3_conc','OrthoP_conc','Si_conc',\n",
    "          'NOx_load','NH3_load','OrthoP_load','Si_load']\n",
    "\n",
    "# These match the names of the CSV files\n",
    "site_names=['tesoro','american','sasm','novato','sunnyvale',\n",
    "            'petaluma','rodeo','fs','valero','phillips66',\n",
    "            'vallejo','ebmud','san_mateo','sfo','palo_alto','sausalito',\n",
    "            'south_bayside','ddsd','burlingame','pinole','st_helena',\n",
    "            'yountville','benicia','millbrae','sonoma_valley','napa',\n",
    "            'cccsd','ebda','calistoga','central_marin','lg','west_county_richmond',\n",
    "            'chevron','sf_southeast','shell','mt_view','marin5','san_jose',\n",
    "            'south_sf','ch','treasure_island','false_sj','false_sac' ]\n",
    "ds['site']=( 'site', site_names)\n",
    "\n",
    "# initialize full output array\n",
    "\n",
    "for analyte in analytes:\n",
    "    ds[analyte]=( ['time','site'],\n",
    "             np.nan*np.ones( (len(ds.time),len(ds.site)) ) )\n",
    "\n",
    "# set units for clarity upfront\n",
    "ds.flow.attrs['units']='m3 s-1'\n",
    "\n",
    "ds.NOx_conc.attrs['units']='mg/l N'\n",
    "ds.NH3_conc.attrs['units']='mg/l N'\n",
    "ds.OrthoP_conc.attrs['units']='mg/l P'\n",
    "ds.Si_conc.attrs['units']='mg/l Si'\n",
    "ds.NOx_load.attrs['units']='kg/day N'\n",
    "ds.NH3_load.attrs['units']='kg/day N'\n",
    "ds.OrthoP_load.attrs['units']='kg/day P'\n",
    "ds.Si_load.attrs['units']='kg/day Si'\n",
    "\n",
    "# setup flag entries\n",
    "for v in ds.data_vars.keys():\n",
    "    ds[v+'_flag']=( ds[v].dims, np.zeros(ds[v].shape,'i2'))\n",
    "    ds[v].attrs['flags']=v+'_flag'"
   ]
  },
  {
   "cell_type": "code",
   "execution_count": 88,
   "metadata": {
    "collapsed": false
   },
   "outputs": [
    {
     "data": {
      "text/html": [
       "<div>\n",
       "<table border=\"1\" class=\"dataframe\">\n",
       "  <thead>\n",
       "    <tr style=\"text-align: right;\">\n",
       "      <th></th>\n",
       "      <th>analyte</th>\n",
       "      <th>year</th>\n",
       "      <th>month</th>\n",
       "      <th>site</th>\n",
       "      <th>value</th>\n",
       "    </tr>\n",
       "  </thead>\n",
       "  <tbody>\n",
       "    <tr>\n",
       "      <th>0</th>\n",
       "      <td>flow_mgd</td>\n",
       "      <td>2012</td>\n",
       "      <td>7</td>\n",
       "      <td>San Pablo Bay</td>\n",
       "      <td>15.989104999999999</td>\n",
       "    </tr>\n",
       "    <tr>\n",
       "      <th>1</th>\n",
       "      <td>flow_mgd</td>\n",
       "      <td>2012</td>\n",
       "      <td>8</td>\n",
       "      <td>San Pablo Bay</td>\n",
       "      <td>15.852014</td>\n",
       "    </tr>\n",
       "    <tr>\n",
       "      <th>2</th>\n",
       "      <td>flow_mgd</td>\n",
       "      <td>2012</td>\n",
       "      <td>9</td>\n",
       "      <td>San Pablo Bay</td>\n",
       "      <td>15.340764</td>\n",
       "    </tr>\n",
       "    <tr>\n",
       "      <th>3</th>\n",
       "      <td>flow_mgd</td>\n",
       "      <td>2012</td>\n",
       "      <td>10</td>\n",
       "      <td>San Pablo Bay</td>\n",
       "      <td>21.317394999999998</td>\n",
       "    </tr>\n",
       "    <tr>\n",
       "      <th>4</th>\n",
       "      <td>flow_mgd</td>\n",
       "      <td>2012</td>\n",
       "      <td>11</td>\n",
       "      <td>San Pablo Bay</td>\n",
       "      <td>48.39628133333334</td>\n",
       "    </tr>\n",
       "  </tbody>\n",
       "</table>\n",
       "</div>"
      ],
      "text/plain": [
       "    analyte  year  month           site               value\n",
       "0  flow_mgd  2012      7  San Pablo Bay  15.989104999999999\n",
       "1  flow_mgd  2012      8  San Pablo Bay           15.852014\n",
       "2  flow_mgd  2012      9  San Pablo Bay           15.340764\n",
       "3  flow_mgd  2012     10  San Pablo Bay  21.317394999999998\n",
       "4  flow_mgd  2012     11  San Pablo Bay   48.39628133333334"
      ]
     },
     "execution_count": 88,
     "metadata": {},
     "output_type": "execute_result"
    }
   ],
   "source": [
    "# Load the HDR data in long format\n",
    "hdr_fn=os.path.join(compile_dir,'hdr_parsed_long.csv')\n",
    "hdr=pd.read_csv(hdr_fn)\n",
    "hdr.head()"
   ]
  },
  {
   "cell_type": "code",
   "execution_count": 98,
   "metadata": {
    "collapsed": false
   },
   "outputs": [],
   "source": [
    "FLAG_LOADING_STUDY=1\n",
    "\n",
    "for site in ds.site: \n",
    "    site=site.item() # get to a str object\n",
    "    site_idx=list(ds.site).index(site) # 11\n",
    "\n",
    "    csv=pd.read_csv(os.path.join(compile_dir,site+'.csv'),\n",
    "                        parse_dates=['Date'])\n",
    "    csv_dnums=utils.to_dnum(csv.Date)\n",
    "    csv_date_i = np.searchsorted(dns,csv_dnums)\n",
    "   \n",
    "    # FLOW: HERE\n",
    "    HERE\n",
    "    \n",
    "    # NOx:\n",
    "    no3=csv['NO3 mg/L N'].copy()\n",
    "    data_valid=~no3.isnull().values # require at least an no3 value.\n",
    "\n",
    "    no2=csv_data['NO2 mg/L N'].copy()\n",
    "    no2[ no2.isnull() ] = 0.0 # ignore missing nitrite numbers\n",
    "\n",
    "    date_valid=(csv_dnums>=dns[0]) & (csv_dnums<dns[-1])\n",
    "    valid=data_valid & date_valid\n",
    "    nox=(no3 + no2)[valid]\n",
    "\n",
    "    ds['NOx_conc'].isel(site=site_idx)[csv_date_i[valid]]=nox\n",
    "    ds['NOx_conc_flag'].isel(site=site_idx)[csv_date_i[valid]]=FLAG_LOADING_STUDY"
   ]
  },
  {
   "cell_type": "code",
   "execution_count": null,
   "metadata": {
    "collapsed": true
   },
   "outputs": [],
   "source": [
    "\n",
    "\n",
    "\n",
    "\n",
    "\n",
    "\n",
    "\n",
    "\n",
    "\n",
    "\n",
    "\n",
    "\n",
    "\n",
    "\n",
    "\n",
    "\n",
    "\n",
    "\n",
    "\n",
    "\n"
   ]
  }
 ],
 "metadata": {
  "kernelspec": {
   "display_name": "Python 2",
   "language": "python",
   "name": "python2"
  },
  "language_info": {
   "codemirror_mode": {
    "name": "ipython",
    "version": 2
   },
   "file_extension": ".py",
   "mimetype": "text/x-python",
   "name": "python",
   "nbconvert_exporter": "python",
   "pygments_lexer": "ipython2",
   "version": "2.7.11"
  }
 },
 "nbformat": 4,
 "nbformat_minor": 0
}
