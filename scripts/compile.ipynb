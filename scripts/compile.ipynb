{
 "cells": [
  {
   "cell_type": "markdown",
   "metadata": {},
   "source": [
    "# Compile POTW Inputs\n",
    "\n",
    "Based on Emily Novick's Loading Study scripts, *Suisun loads.r*, *SanPablo loads.r*, \n",
    "*CentralBay loads.r*, *LowerSouthBay loads.r*.\n",
    "\n",
    "Transcribed from compile.py."
   ]
  },
  {
   "cell_type": "code",
   "execution_count": 113,
   "metadata": {
    "collapsed": true
   },
   "outputs": [],
   "source": [
    "# imports\n",
    "from __future__ import print_function\n",
    "import pandas as pd\n",
    "import numpy as np\n",
    "import os\n",
    "import six"
   ]
  },
  {
   "cell_type": "code",
   "execution_count": 2,
   "metadata": {
    "collapsed": true
   },
   "outputs": [],
   "source": [
    "# configure paths\n",
    "sources_path=\"../sources\"\n",
    "compile_path='../outputs/intermediate'"
   ]
  },
  {
   "cell_type": "code",
   "execution_count": 3,
   "metadata": {
    "collapsed": true
   },
   "outputs": [],
   "source": [
    "# discard data before this time\n",
    "start_date=pd.Timestamp('2000-01-01')\n",
    "\n",
    "def clean_columns(df):\n",
    "    renames={ c:c.strip()\n",
    "              for c in df.columns }\n",
    "    df.rename(columns=renames,inplace=True)\n",
    "    return df\n",
    "\n",
    "srcs={}"
   ]
  },
  {
   "cell_type": "markdown",
   "metadata": {},
   "source": [
    "## San Jose"
   ]
  },
  {
   "cell_type": "code",
   "execution_count": 58,
   "metadata": {
    "collapsed": false
   },
   "outputs": [],
   "source": [
    "# San Jose  \n",
    "df = pd.read_csv(os.path.join(sources_path,'loading_study','SanJose.csv'),\n",
    "                 parse_dates=['Date'])\n",
    "clean_columns(df)\n",
    "\n",
    "df=df[ df.Date>start_date ]\n",
    "\n",
    "df.PO4 *= (31./95) #convert historic data from mg/L PO4 to mg/L P\n",
    "df.OrthoP *= (31./95)\n",
    "\n",
    "# EN code removes 2006 PO4 values from consideration (change in treatment)\n",
    "# but here keep them for model forcing\n",
    "\n",
    "# estimates\n",
    "df['TKN mg/L N']=1.78\n",
    "df['TP mg/L P']=0.57\n",
    "\n",
    "# make all the units explicit\n",
    "df.rename(columns={'Flow':'flow mgd',\n",
    "                   'TSS':'TSS mg/L',\n",
    "                   'NH3' :'NH3 mg/L N',\n",
    "                   'NO3' :'NO3 mg/L N',\n",
    "                   'NO2' :'NO2 mg/L N',\n",
    "                   'PO4' :'PO4 mg/L P'},\n",
    "          inplace=True)\n",
    "\n",
    "df=df.set_index('Date')\n",
    "\n",
    "srcs['san_jose']=df"
   ]
  },
  {
   "cell_type": "markdown",
   "metadata": {},
   "source": [
    "## Palo Alto"
   ]
  },
  {
   "cell_type": "code",
   "execution_count": 59,
   "metadata": {
    "collapsed": true
   },
   "outputs": [],
   "source": [
    "# Palo Alto \n",
    "df = pd.read_csv(os.path.join(sources_path,'loading_study','PaloAlto.csv'),\n",
    "                 parse_dates=['Date'])\n",
    "clean_columns(df)\n",
    "\n",
    "df=df[ df.Date>start_date ]\n",
    "\n",
    "# convert historic PO4 from mg/L PO4 to mg/L P\n",
    "df.PO4 *= (31./95)\n",
    "\n",
    "# estimates\n",
    "df['TKN mg/L N'] = 0.87\n",
    "df['TP mg/L P'] = 4.31\n",
    "\n",
    "# make all the units explicit\n",
    "df.rename(columns={'Flow':'flow mgd',\n",
    "                   'NH3' :'NH3 mg/L N',\n",
    "                   'NO3' :'NO3 mg/L N',\n",
    "                   'NO2' :'NO2 mg/L N',\n",
    "                   'PO4' :'PO4 mg/L P'\n",
    "               },\n",
    "          inplace=True)\n",
    "\n",
    "df=df.set_index('Date')\n",
    "\n",
    "srcs['palo_alto']=df"
   ]
  },
  {
   "cell_type": "markdown",
   "metadata": {},
   "source": [
    "## Sunnyvale"
   ]
  },
  {
   "cell_type": "code",
   "execution_count": 60,
   "metadata": {
    "collapsed": false
   },
   "outputs": [],
   "source": [
    "# Sunnyvale \n",
    "df = pd.read_csv(os.path.join(sources_path,'loading_study','Sunnyvale.csv'),\n",
    "                 parse_dates=['Date'])\n",
    "clean_columns(df)\n",
    "\n",
    "df=df[ df.Date>start_date ]\n",
    "\n",
    "# estimates - 2012 PO4 not representative, so scaled historic TP by % PO4\n",
    "df['PO4'] = df.TP*0.93\n",
    "\n",
    "# make all the units explicit\n",
    "df.rename(columns={'Flow':'flow mgd',\n",
    "                   'NH3' :'NH3 mg/L N',\n",
    "                   'NO3' :'NO3 mg/L N',\n",
    "                   'NO2' :'NO2 mg/L N',\n",
    "                   'PO4' :'PO4 mg/L P',\n",
    "                   'TKN' :'TKN mg/L N',\n",
    "                   'OrgN':'OrgN mg/L N',\n",
    "                   'TP'  :'TP mg/L P',\n",
    "                   'Temp':'temperature degC',\n",
    "                   'TSS':'TSS mg/L',\n",
    "                   'TDS':'TDS mg/L'\n",
    "               },\n",
    "          inplace=True)\n",
    "\n",
    "df=df.set_index('Date')\n",
    "\n",
    "srcs['sunnyvale']=df"
   ]
  },
  {
   "cell_type": "markdown",
   "metadata": {},
   "source": [
    "## Stormwater\n",
    "\n",
    "Currently not handled in this dataset - instead, rough loading estimates are \n",
    "attached to surface water flows outside the POTW framework.\n"
   ]
  },
  {
   "cell_type": "code",
   "execution_count": 61,
   "metadata": {
    "collapsed": true
   },
   "outputs": [],
   "source": [
    "# Stormwater - disabled.\n",
    "\n",
    "# df=pd.read_csv(os.path.join( loadstudy_dir,'..','Results ModelRun_02282013.csv'))"
   ]
  },
  {
   "cell_type": "markdown",
   "metadata": {},
   "source": [
    "## SF Southeast"
   ]
  },
  {
   "cell_type": "code",
   "execution_count": 62,
   "metadata": {
    "collapsed": true
   },
   "outputs": [],
   "source": [
    "## SF Southeast \n",
    "df=pd.read_csv(os.path.join(sources_path,'loading_study','SFSoutheast.csv'),\n",
    "               parse_dates=['Sample_Date'])\n",
    "df.rename(columns={'Sample_Date':'Date'},inplace=True)\n",
    "\n",
    "# NOTES: for historical reporting - 1996 data no good - flowmeter malfunctioning \n",
    "# (Amy Chastain, pers comm)\n",
    "\n",
    "df=df[ df.Date>start_date ]\n",
    "\n",
    "cols=[]\n",
    "\n",
    "for v in df.Parameter.unique():\n",
    "    col=df[df.Parameter==v].set_index('Date')['Result'].to_frame(v)\n",
    "    cols.append(col)\n",
    "\n",
    "df2=cols[0].join(cols[1:],how='outer')\n",
    "df,orig=df2,df\n",
    "\n",
    "# Original code calculated loads based on flows only on days that the corresponding\n",
    "# nutrient was measured.\n",
    "\n",
    "df.rename(columns={'Flow':'flow mgd',\n",
    "                   'TKN':'TKN mg/L N',\n",
    "                   'NO3-N':'NO3 mg/L N',\n",
    "                   'NO2-N':'NO2 mg/L N',\n",
    "                   'NH3-N':'NH3 mg/L N',\n",
    "                   'PHOSPHORUS_T':'TP mg/L P',\n",
    "                   'PO4_ORTHO-P':'PO4 mg/L P',\n",
    "                   'PH':'pH',\n",
    "                   'TSS':'TSS mg/L'},\n",
    "          inplace=True)\n",
    "\n",
    "srcs['sf_southeast']=df"
   ]
  },
  {
   "cell_type": "markdown",
   "metadata": {},
   "source": [
    "## EBDA"
   ]
  },
  {
   "cell_type": "code",
   "execution_count": 63,
   "metadata": {
    "collapsed": true
   },
   "outputs": [],
   "source": [
    "# EBDA \n",
    "df=pd.read_csv(os.path.join(sources_path,'loading_study','EBDA.csv'),\n",
    "               parse_dates=['Date'])\n",
    "df=df[df.Date>start_date]\n",
    "\n",
    "cols=[]\n",
    "\n",
    "for v in df.Pollutant.unique():\n",
    "    col=df[df.Pollutant==v].set_index('Date')['Value'].to_frame(v)\n",
    "    cols.append(col)\n",
    "\n",
    "df2=cols[0].join(cols[1:],how='outer')\n",
    "\n",
    "df,orig=df2,df\n",
    "\n",
    "# estimates\n",
    "df['NO3 mg/L N']=2.34\n",
    "df['TKN mg/L N']=31.00\n",
    "df['PO4 mg/L P']=1.67\n",
    "df['TP mg/L P']=2.39\n",
    "\n",
    "df.rename(columns={'Ammonia, Total (as N)':'NH3 mg/L N',\n",
    "                   'Flow':'flow mgd'},\n",
    "          inplace=True)\n",
    "\n",
    "srcs['ebda']=df"
   ]
  },
  {
   "cell_type": "markdown",
   "metadata": {},
   "source": [
    "## San Mateo"
   ]
  },
  {
   "cell_type": "code",
   "execution_count": 64,
   "metadata": {
    "collapsed": true
   },
   "outputs": [],
   "source": [
    "# San Mateo\n",
    "df=pd.read_csv(os.path.join(sources_path,'loading_study','SanMateo.csv'),\n",
    "               parse_dates=['Date'])\n",
    "\n",
    "df=df[df.Date>start_date]\n",
    "\n",
    "# seems that this covers all the records, but just to be safe, I suppose\n",
    "sel=( (df.Description=='E-001 (Dry) Eff Monthly Average') |\n",
    "      (df.Description=='E-001 (Wet) Eff Monthly Average') )\n",
    "df=df[sel]\n",
    "\n",
    "cols=[]\n",
    "\n",
    "for v in df.Pollutant.unique():\n",
    "    col=df[df.Pollutant==v].set_index('Date')['Value'].to_frame(v)\n",
    "    cols.append(col)\n",
    "\n",
    "df2=cols[0].join(cols[1:],how='outer')\n",
    "\n",
    "df,orig=df2,df\n",
    "\n",
    "# estimates from R code\n",
    "df['NO3 mg/L N']=1.64\n",
    "df['TKN mg/L N']=32.58\n",
    "df['PO4 mg/L P']=2.63\n",
    "df['TP mg/L P']=3.02\n",
    "\n",
    "df.rename(columns={'NH3':'NH3 mg/L N',\n",
    "                   'Flow':'flow mgd'},\n",
    "          inplace=True)\n",
    "\n",
    "srcs['san_mateo']=df"
   ]
  },
  {
   "cell_type": "markdown",
   "metadata": {},
   "source": [
    "## South Bayside"
   ]
  },
  {
   "cell_type": "code",
   "execution_count": 65,
   "metadata": {
    "collapsed": true
   },
   "outputs": [],
   "source": [
    "# South Bayside  \n",
    "df=pd.read_csv(os.path.join(sources_path,'loading_study','SouthBayside.csv'),\n",
    "               parse_dates=['Date'])\n",
    "df=df[df.Date>start_date]\n",
    "\n",
    "# estimates\n",
    "df['NO3 mg/L N']= 0.56\n",
    "df['TKN']= 40.75 # original file has TKN, but only 14 data points\n",
    "df['PO4 mg/L P']= 3.99\n",
    "df['TP mg/L P'] = 3.49\n",
    "\n",
    "df.rename(columns={'TKN':'TKN mg/L N',\n",
    "                   'Temp':'temperature degC',\n",
    "                   'NH3':'NH3 mg/L N',\n",
    "                   'TSS':'TSS mg/L',\n",
    "                   'Flow':'flow mgd'},\n",
    "          inplace=True)\n",
    "\n",
    "srcs['south_bayside']=df"
   ]
  },
  {
   "cell_type": "markdown",
   "metadata": {},
   "source": [
    "## South SF"
   ]
  },
  {
   "cell_type": "code",
   "execution_count": 66,
   "metadata": {
    "collapsed": true
   },
   "outputs": [],
   "source": [
    "# South SF  \n",
    "df=pd.read_csv(os.path.join(sources_path,'loading_study','SouthSF.csv'),\n",
    "               parse_dates=['Date'])\n",
    "\n",
    "df=df[df.Date>start_date]\n",
    "\n",
    "# estimates\n",
    "df['NO3 mg/L N'] = 1.91\n",
    "df['TKN mg/L N'] = 32.0\n",
    "df['PO4 mg/L P'] = 3.0\n",
    "df['TP mg/L P']  = 4.11\n",
    "\n",
    "df.rename(columns={'Temp':'temperature degC',\n",
    "                   'NH3':'NH3 mg/L N',\n",
    "                   'TSS':'TSS mg/L',\n",
    "                   'Flow':'flow mgd'},\n",
    "          inplace=True)\n",
    "\n",
    "srcs['south_sf']=df"
   ]
  },
  {
   "cell_type": "markdown",
   "metadata": {},
   "source": [
    "## Small Plants"
   ]
  },
  {
   "cell_type": "code",
   "execution_count": 67,
   "metadata": {
    "collapsed": true
   },
   "outputs": [],
   "source": [
    "##  smaller plants  \n",
    "\n",
    "def small_plant(flow,NH3,NO3,PO4,name=None):\n",
    "    # oddly, first entry is end of month...\n",
    "    dates=pd.date_range(start=start_date,end='2012-01-01',freq='M')\n",
    "    def expand(v):\n",
    "        v=np.atleast_1d(v)\n",
    "        if len(v)==1:\n",
    "            v=v*np.ones(len(dates))\n",
    "        elif len(v)==12:\n",
    "            v=v[ dates.month-1 ]\n",
    "        else:\n",
    "            raise Exception(\"only scalar or monthly climatology allowed\")\n",
    "        return v\n",
    "            \n",
    "    df=pd.DataFrame({'Date':dates,\n",
    "                     'NH3 mg/L N':expand(NH3),\n",
    "                     'NO3 mg/L N':expand(NO3),\n",
    "                     'PO4 mg/L P':expand(PO4),\n",
    "                     'flow mgd':expand(flow)})\n",
    "    df=df.set_index('Date')\n",
    "\n",
    "    if name is not None:\n",
    "        srcs[name]=df\n",
    "\n",
    "    return df\n",
    "\n",
    "# burlingame:\n",
    "df=small_plant(flow=3.67,\n",
    "               NH3=22.70,\n",
    "               NO3=4.52,\n",
    "               PO4=2.48,\n",
    "               name='burlingame')\n",
    "\n",
    "# millbrae\n",
    "df=small_plant(flow=2.0,\n",
    "               NH3=39.17,\n",
    "               NO3=0.1,\n",
    "               PO4=2.60,\n",
    "               name='millbrae')\n",
    "\n",
    "# sfo\n",
    "df=small_plant(flow=1.5,\n",
    "               NH3=40.46,\n",
    "               NO3=3.76,\n",
    "               PO4=2.35,\n",
    "               name='sfo')\n",
    "\n",
    "# # livermore - commented out in R code\n",
    "# df=small_plant(flow=5.7,\n",
    "#                NH3=44.0,\n",
    "#                NO3=0.02,\n",
    "#                PO4=0.81,\n",
    "#                name='livermore')\n",
    "# "
   ]
  },
  {
   "cell_type": "markdown",
   "metadata": {},
   "source": [
    "# Central Bay\n",
    "\n",
    "## EBMUD"
   ]
  },
  {
   "cell_type": "code",
   "execution_count": 68,
   "metadata": {
    "collapsed": true
   },
   "outputs": [],
   "source": [
    "# EBMUD  \n",
    "\n",
    "df=pd.read_csv(os.path.join(sources_path,'loading_study','EBMUD.csv'),\n",
    "               parse_dates=['CDATE'])\n",
    "df.rename(columns={'CDATE':'Date'},inplace=True)\n",
    "\n",
    "df=df[df.Date>start_date]\n",
    "\n",
    "# because of the variation in SITE, SAMTYPE, LOCATOR, can't \n",
    "# use the same pivot method as above.\n",
    "\n",
    "cols=[]\n",
    "\n",
    "sel_flow= (df.PARM_STORED=='Flow') & (df.SITE=='E-001  Eff Daily Average')\n",
    "col=df[sel_flow].set_index('Date')['NUMVALUE'].to_frame('flow mgd')\n",
    "cols.append(col)\n",
    "\n",
    "sel= ( (df.PARM_STORED=='AMMONIA AS N') &\n",
    "       df.SAMTYPE.isin(['CF01','CF03','CFV','CTV','COMP']) &\n",
    "       df.LOCATOR.isin(['EFF EPS 04', 'EFF DECHLOR']) )\n",
    "\n",
    "col=df[sel].set_index('Date')['NUMVALUE'].to_frame('NH3 mg/L N')\n",
    "cols.append(col)\n",
    "\n",
    "# R code didn't include TSS, but it's there in the same set of samples as\n",
    "# the NH3 numbers are using\n",
    "sel= ( (df.PARM_STORED=='TOTAL SUSPENDED SOLIDS') &\n",
    "       df.SAMTYPE.isin(['CF01','CF03','CFV','CTV','COMP']) &\n",
    "       df.LOCATOR.isin(['EFF EPS 04', 'EFF DECHLOR']) )\n",
    "\n",
    "col=df[sel].set_index('Date')['NUMVALUE'].to_frame('TSS mg/L')\n",
    "cols.append(col)\n",
    "\n",
    "df2=cols[0].join(cols[1:],how='outer')\n",
    " \n",
    "df,orig=df2,df\n",
    "\n",
    "# estimates\n",
    "df['NO3 mg/L N']=4.46\n",
    "df['TKN mg/L N']=40.29\n",
    "df['PO4 mg/L P']=2.91\n",
    "df['TP mg/L P']=4.51\n",
    "\n",
    "# NOTE: code fragment in R code about varying PO4 loads with high/low flow.\n",
    "srcs['ebmud']=df"
   ]
  },
  {
   "cell_type": "markdown",
   "metadata": {},
   "source": [
    "## West County / Richmond"
   ]
  },
  {
   "cell_type": "code",
   "execution_count": 69,
   "metadata": {
    "collapsed": true
   },
   "outputs": [],
   "source": [
    "# West County/Richmond  \n",
    "\n",
    "df=pd.read_csv(os.path.join(sources_path,'loading_study','WestCounty_Richmond.csv'),\n",
    "               parse_dates=['Date'])\n",
    "df=df[ df.Date > start_date ]\n",
    "\n",
    "cols=[]\n",
    "\n",
    "col=df[(df.Pollutant=='Flow')&(df.Description=='E-001 DC-Combined) Eff Daily Average')]\n",
    "col=col.set_index('Date')['Value'].to_frame('flow mgd')\n",
    "cols.append(col)\n",
    "\n",
    "col=df[(df.Pollutant=='NH3')&(df.Description=='E-001 DC-Combined) Eff Daily Maximum')]\n",
    "col=col.set_index('Date')['Value'].to_frame('NH3 mg/L N')\n",
    "cols.append(col)\n",
    "\n",
    "df2=cols[0].join(cols[1:],how='outer')\n",
    "\n",
    "df,orig=df2,df\n",
    "\n",
    "# estimates\n",
    "df['NO3 mg/L N']=3.19\n",
    "df['TKN mg/L N']=22.85\n",
    "df['PO4 mg/L P']=1.60\n",
    "df['TP mg/L P']=1.81\n",
    "\n",
    "srcs['west_county_richmond']=df"
   ]
  },
  {
   "cell_type": "markdown",
   "metadata": {},
   "source": [
    "## Central Marin"
   ]
  },
  {
   "cell_type": "code",
   "execution_count": 70,
   "metadata": {
    "collapsed": true
   },
   "outputs": [],
   "source": [
    "# Central Marin  \n",
    "df=pd.read_csv(os.path.join(sources_path,'loading_study','CentralMarin.csv'),\n",
    "               parse_dates=['Date'])\n",
    "df=df[df.Date>start_date]\n",
    "\n",
    "# estimates\n",
    "df['NO3 mg/L N'] = 2.92\n",
    "df['TKN mg/L N'] = 33.36\n",
    "df['PO4 mg/L P'] = 3.34\n",
    "df['TP mg/L P']  = 3.61\n",
    "\n",
    "df.rename(columns={'Flow':'flow mgd',\n",
    "                   'NH3':'NH3 mg/L N',\n",
    "                   'TSS':'TSS mg/L',\n",
    "                   'Temp':'temperature degC'},\n",
    "          inplace=True)\n",
    "\n",
    "srcs['central_marin']=df"
   ]
  },
  {
   "cell_type": "markdown",
   "metadata": {},
   "source": [
    "## Smaller Plants"
   ]
  },
  {
   "cell_type": "code",
   "execution_count": 71,
   "metadata": {
    "collapsed": true
   },
   "outputs": [],
   "source": [
    "# smaller plants  \n",
    "\n",
    "# sasm\n",
    "df=small_plant(flow=2.4,\n",
    "               NH3=3.7,\n",
    "               NO3=15.8,\n",
    "               PO4=4.4,\n",
    "               name='sasm')\n",
    "\n",
    "# sausalito\n",
    "df=small_plant(flow=1.2,\n",
    "               NH3=8.76,\n",
    "               NO3=12.23,\n",
    "               PO4=3.57,\n",
    "               name='sausalito')\n",
    "\n",
    "# treasure island\n",
    "df=small_plant(flow=1.3,\n",
    "               NH3=0.45,\n",
    "               NO3=7.41,\n",
    "               PO4=3.07,\n",
    "               name='treasure_island')\n",
    "\n",
    "# marin 5\n",
    "df=small_plant(flow=0.65,\n",
    "               NH3=21.0,\n",
    "               NO3=0.5,\n",
    "               PO4=2.54,\n",
    "               name='marin5')"
   ]
  },
  {
   "cell_type": "markdown",
   "metadata": {},
   "source": [
    "# San Pablo Bay\n",
    "\n",
    "## Napa"
   ]
  },
  {
   "cell_type": "code",
   "execution_count": 72,
   "metadata": {
    "collapsed": true
   },
   "outputs": [],
   "source": [
    "# Napa\n",
    "\n",
    "df=pd.read_csv(os.path.join(sources_path,'loading_study','Napa.csv'),\n",
    "               parse_dates=['Date'])\n",
    "df=df[df.Date>start_date]\n",
    "\n",
    "# NOTE: pretty sure they only discharge for part of the year\n",
    "# estimates\n",
    "df['NO3 mg/L N'] = 6.26\n",
    "df['TKN mg/L N'] = 4.52\n",
    "df['PO4 mg/L P'] = 1.06\n",
    "df['TP mg/L P']  = 1.33\n",
    "\n",
    "df.rename(columns={'Flow':'flow mgd',\n",
    "                   'NH3':'NH3 mg/L N'},\n",
    "          inplace=True)\n",
    "srcs['napa']=df"
   ]
  },
  {
   "cell_type": "markdown",
   "metadata": {},
   "source": [
    "## Vallejo"
   ]
  },
  {
   "cell_type": "code",
   "execution_count": 73,
   "metadata": {
    "collapsed": false
   },
   "outputs": [],
   "source": [
    "# Vallejo \n",
    "df=pd.read_csv(os.path.join(sources_path,'loading_study','vallejo.csv'),\n",
    "               parse_dates=['Date'],\n",
    "               na_values=[' ']) # pH has some spaces.\n",
    "df=df[df.Date>start_date]\n",
    "\n",
    "# estimate\n",
    "df['PO4 mg/L P'] = 2.69\n",
    "\n",
    "df['TSS']=df.TSS.astype(np.float64)\n",
    "\n",
    "df.rename(columns={'Flow':'flow mgd',\n",
    "                   'NH3':'NH3 mg/L N',\n",
    "                   'NO2':'NO2 mg/L N',\n",
    "                   'NO3':'NO3 mg/L N',\n",
    "                   'TKN':'TKN mg/L N',\n",
    "                   'TP' :'TP mg/L P',\n",
    "                   'Temp':'temperature degC',\n",
    "                   'TSS':'TSS mg/L'},\n",
    "          inplace=True)\n",
    "\n",
    "srcs['vallejo']=df"
   ]
  },
  {
   "cell_type": "markdown",
   "metadata": {},
   "source": [
    "## Chevron"
   ]
  },
  {
   "cell_type": "code",
   "execution_count": 74,
   "metadata": {
    "collapsed": true
   },
   "outputs": [],
   "source": [
    "# Chevron  \n",
    "# NOTE: 'ND' should probably be some nominal zero-ish value.\n",
    "df=pd.read_csv(os.path.join(sources_path,'loading_study','Chevron.csv'),\n",
    "               parse_dates=['Day'],\n",
    "               na_values=['ND'])\n",
    "df.rename(columns={'Day':'Date'},inplace=True)\n",
    "df=df[ df.Date > start_date ]\n",
    "\n",
    "# estimates\n",
    "df['NO3 mg/L N'] =14.67\n",
    "df['TKN mg/L N'] = 3.05\n",
    "df['PO4 mg/L P'] = 1.83\n",
    "df['TP mg/L P']  = 2.83\n",
    "\n",
    "df.rename(columns={'Flow':'flow mgd',\n",
    "                   'NH3':'NH3 mg/L N'},\n",
    "          inplace=True)\n",
    "\n",
    "srcs['chevron']=df"
   ]
  },
  {
   "cell_type": "markdown",
   "metadata": {},
   "source": [
    "## Shell"
   ]
  },
  {
   "cell_type": "code",
   "execution_count": 75,
   "metadata": {
    "collapsed": true
   },
   "outputs": [],
   "source": [
    "# Shell  \n",
    "df=pd.read_csv(os.path.join(sources_path,'loading_study','shell.csv'),\n",
    "               parse_dates=['Date'],\n",
    "               na_values=['ND'])\n",
    "df=df[df.Date>start_date]\n",
    "\n",
    "cols=[]\n",
    "\n",
    "col=df[(df.Pollutant=='Flow')&(df.Description=='E-001 Eff Daily Average')]\n",
    "col=col.set_index('Date')['Value'].to_frame('flow mgd')\n",
    "cols.append(col)\n",
    "\n",
    "col=df[df.Pollutant=='Ammonia'].set_index('Date')['Value'].to_frame('NH3 mg/L N')\n",
    "cols.append(col)\n",
    "\n",
    "col=df[df.Pollutant=='Nitrate'].set_index('Date')['Value'].to_frame('NO3 mg/L N')\n",
    "cols.append(col)\n",
    "\n",
    "df2=cols[0].join(cols[1:],how='outer')\n",
    "\n",
    "df,orig=df2,df\n",
    "\n",
    "# estimates\n",
    "df['TKN mg/L N']=3.95\n",
    "df['PO4 mg/L P']=0.01\n",
    "df['TP mg/L P']=0.15\n",
    "\n",
    "srcs['shell']=df"
   ]
  },
  {
   "cell_type": "markdown",
   "metadata": {},
   "source": [
    "## Novato"
   ]
  },
  {
   "cell_type": "code",
   "execution_count": 76,
   "metadata": {
    "collapsed": true
   },
   "outputs": [],
   "source": [
    "# Novato  \n",
    "df=pd.read_csv(os.path.join(sources_path,'loading_study','Novato.csv'),\n",
    "               parse_dates=['Date'])\n",
    "df=df[df.Date>start_date]\n",
    "\n",
    "# estimates\n",
    "df['NO3 mg/L N'] = 11.04\n",
    "df['TKN mg/L N'] = 1.44\n",
    "df['PO4 mg/L P'] = 0.37\n",
    "df['TP mg/L P'] = 0.39\n",
    "\n",
    "df.rename(columns={'Flow':'flow mgd',\n",
    "                   'NH3':'NH3 mg/L N'},\n",
    "          inplace=True)\n",
    "                   \n",
    "srcs['novato']=df"
   ]
  },
  {
   "cell_type": "markdown",
   "metadata": {},
   "source": [
    "## Sonoma Valley"
   ]
  },
  {
   "cell_type": "code",
   "execution_count": 77,
   "metadata": {
    "collapsed": true
   },
   "outputs": [],
   "source": [
    "# Sonoma Valley  \n",
    "df=pd.read_csv(os.path.join(sources_path,'loading_study','SonomaValley.csv'),\n",
    "               parse_dates=['DATE'],\n",
    "               na_values=[' - - -'])\n",
    "df.rename(columns={'DATE':'Date'},inplace=True)\n",
    "\n",
    "df=df[df.Date>start_date]\n",
    "\n",
    "# goofy 6.4/6.6 entries in pH:\n",
    "def fix_slash(s):\n",
    "    if isinstance(s,str):\n",
    "        if \"/\" in s:\n",
    "            a,b=s.split('/')\n",
    "            s=0.5*(float(a)+float(b))\n",
    "        else:\n",
    "            s=float(s)\n",
    "    return s\n",
    "df['pH']=df.pH.apply(fix_slash)\n",
    "df.ix[ df.Temp==\"19..1\",'Temp' ] = \"19.1\"\n",
    "df.ix[ df.Temp==\"24.8.\",'Temp' ] = \"24.8\"\n",
    "df['Temp']=df.Temp.astype(np.float64)\n",
    "\n",
    "# estimates\n",
    "df['PO4 mg/L P'] = 2.60 # file has some PO4 data, but following R code's lead.\n",
    "\n",
    "df.rename(columns={'FLOW ':'flow mgd',\n",
    "                   'TSS':'TSS mg/L',\n",
    "                   'NO3':'NO3 mg/L N',\n",
    "                   'OrgN':'orgN mg/L N',\n",
    "                   'TKN':'TKN mg/L N',\n",
    "                   'PO4':'PO4 mg/L',\n",
    "                   'TP':'TP mg/L P',\n",
    "                   'Temp':'temperature degC',\n",
    "                   'NH3':'NH3 mg/L N'},\n",
    "          inplace=True)\n",
    "                   \n",
    "srcs['sonoma_valley']=df"
   ]
  },
  {
   "cell_type": "markdown",
   "metadata": {},
   "source": [
    "## Phillips 66"
   ]
  },
  {
   "cell_type": "code",
   "execution_count": 78,
   "metadata": {
    "collapsed": true
   },
   "outputs": [],
   "source": [
    "df=pd.read_csv(os.path.join(sources_path,'loading_study','Phillips66.csv'),\n",
    "               parse_dates=['Date'])\n",
    "df=df[df.Date>start_date]\n",
    "\n",
    "# estimates\n",
    "df['TKN mg/L N'] = 0.89\n",
    "df['PO4 mg/L P'] = 0.43\n",
    "df['TP mg/L P']  = 0.56\n",
    "\n",
    "df['pH']=0.5*(df.minpH + df.maxpH)\n",
    "# data look like Fahrenheit\n",
    "temp_degF=0.5*(df.minTemp + df.maxTemp)\n",
    "df['temperature degC']=(temp_degF-32)*5./9\n",
    "\n",
    "df.rename(columns={'Flow':'flow mgd',\n",
    "                   'NH3':'NH3 mg/L N',\n",
    "                   'NO3':'NO3 mg/L N',\n",
    "                   'TSS':'TSS mg/L'},\n",
    "          inplace=True)\n",
    "                   \n",
    "srcs['phillips66']=df"
   ]
  },
  {
   "cell_type": "markdown",
   "metadata": {},
   "source": [
    "## Pinole  "
   ]
  },
  {
   "cell_type": "code",
   "execution_count": 79,
   "metadata": {
    "collapsed": true
   },
   "outputs": [],
   "source": [
    "df=pd.read_csv(os.path.join(sources_path,'loading_study','pinole.csv'),\n",
    "               parse_dates=['Date'])\n",
    "df=df[df.Date>start_date]\n",
    "\n",
    "df.rename(columns={'Flow':'flow mgd',\n",
    "                   'TKN':'TKN mg/L N',\n",
    "                   'NH3':'NH3 mg/L N',\n",
    "                   'NO3':'NO3 mg/L N',\n",
    "                   'NO2':'NO2 mg/L N',\n",
    "                   'Temp':'temperature degC',\n",
    "                   'TSS':'TSS mg/L'},\n",
    "          inplace=True)\n",
    "\n",
    "# estimates\n",
    "df['TKN mg/L N'] =25.50 \n",
    "df['PO4 mg/L P'] = 3.22\n",
    "df['TP mg/L P']  = 3.35\n",
    "\n",
    "srcs['pinole']=df"
   ]
  },
  {
   "cell_type": "markdown",
   "metadata": {},
   "source": [
    "## Smaller plants"
   ]
  },
  {
   "cell_type": "code",
   "execution_count": 80,
   "metadata": {
    "collapsed": false
   },
   "outputs": [],
   "source": [
    "# no summer discharge\n",
    "small_plant(flow=[2.67]*4 + [0]*6 + [2.67]*2,\n",
    "            NH3=0.27,NO3=9.63,PO4=3.80,\n",
    "            name='american')\n",
    "               \n",
    "small_plant(flow=3.0,NH3=25.0,NO3=0.93,PO4=2.80,name='benicia')\n",
    "\n",
    "small_plant(flow=[0.56]*5 + [0]*5 + [0.56]*2,\n",
    "            NH3=2.84,NO3=10.97,PO4=2.20,\n",
    "            name='calistoga')\n",
    "\n",
    "small_plant(flow=0.96,NH3=4.68,NO3=2.87,PO4=1.43,name='ch')\n",
    "\n",
    "small_plant(flow=[1.95]*5 + [0]*5 + [1.95]*2,\n",
    "             NH3=2.73,NO3=20.33,PO4=3.60,\n",
    "             name='lg')\n",
    "\n",
    "small_plant(flow=[3.5]*4 + [0]*6 + [3.5]*2,\n",
    "            NH3=0.45,NO3=1.02,PO4=2.38,\n",
    "            name='petaluma')\n",
    "\n",
    "small_plant(flow=0.7,NH3=2.47,NO3=11.23,PO4=3.67,name='rodeo')\n",
    "small_plant(flow=[0.33]*4 + [0]*6 + [0.33]*2,\n",
    "            NH3=8.3,NO3=0.1,PO4=3.10,\n",
    "            name='st_helena')\n",
    "small_plant(flow=1.95,NH3=0.34,NO3=20.83,PO4=0.02,name='valero')\n",
    "\n",
    "small_plant(flow=[0.37]*5+[0]*5+[0.37]*2,\n",
    "            NH3=6.25,NO3=13.00,PO4=3.00,\n",
    "            name='yountville') ;\n",
    "\n"
   ]
  },
  {
   "cell_type": "markdown",
   "metadata": {},
   "source": [
    "##  Suisun Bay - CCCSD"
   ]
  },
  {
   "cell_type": "code",
   "execution_count": 81,
   "metadata": {
    "collapsed": true
   },
   "outputs": [],
   "source": [
    "### the results of this are already added into NH4 mass balance csv\n",
    "df=pd.read_csv(os.path.join(sources_path,'loading_study','CCCSD.csv'),\n",
    "               parse_dates=['Date'],\n",
    "               na_values=['N.M.','rejected','not analyzed','<0.10','.','<0.50'])\n",
    "df=df[df.Date>start_date]\n",
    "\n",
    "# estimate\n",
    "df['PO4 mg/L P']=0.52\n",
    "\n",
    "df.rename(columns={'Flow':'flow mgd',\n",
    "                   'Temp':'temperature degC',\n",
    "                   'TP':'TP mg/L P',\n",
    "                   'TSS':'TSS mg/L',\n",
    "                   'NH3':'NH3 mg/L N',\n",
    "                   'TKN':'TKN mg/L N',\n",
    "                   'NO2':'NO2 mg/L N',\n",
    "                   'NO3':'NO3 mg/L N'},\n",
    "          inplace=True)\n",
    "\n",
    "srcs['cccsd']=df"
   ]
  },
  {
   "cell_type": "markdown",
   "metadata": {},
   "source": [
    "##  Fairfield Suisun"
   ]
  },
  {
   "cell_type": "code",
   "execution_count": 82,
   "metadata": {
    "collapsed": true
   },
   "outputs": [],
   "source": [
    "df=pd.read_csv(os.path.join(sources_path,'loading_study','FS.csv'),\n",
    "               parse_dates=['Date'],na_values=['ND'])\n",
    "df=df[df.Date>start_date]\n",
    "\n",
    "df.rename(columns={'NH3':'NH3 mg/L N',\n",
    "                   ' TKN':'TKN mg/L N',\n",
    "                   'NO3':'NO3 mg/L N',\n",
    "                   'NO2':'NO2 mg/L N',\n",
    "                   'TN':'TN mg/L N',\n",
    "                   'TP':'TP mg/L P',\n",
    "                   '  Flow':'flow mgd'},\n",
    "          inplace=True)\n",
    "                   \n",
    "# estimate\n",
    "df['PO4 mg/L P']=3.86\n",
    "\n",
    "srcs['fs']=df"
   ]
  },
  {
   "cell_type": "markdown",
   "metadata": {},
   "source": [
    "## DDSD: Delta Diablo"
   ]
  },
  {
   "cell_type": "code",
   "execution_count": 83,
   "metadata": {
    "collapsed": true
   },
   "outputs": [],
   "source": [
    "df=pd.read_csv(os.path.join(sources_path,'loading_study','DDSD.csv'),\n",
    "               parse_dates=['Date'])\n",
    "df=df[df.Date>start_date]\n",
    "\n",
    "df.rename(columns={'Flow':'flow mgd',\n",
    "                   'NH3':'NH3 mg/L N',\n",
    "                   'NO3':'NO3 mg/L N',\n",
    "                   'NO2':'NO2 mg/L N',\n",
    "                   'TP':'TP mg/L P'},\n",
    "          inplace=True)\n",
    "\n",
    "# estimates\n",
    "df['TKN mg/L N'] =27.85\n",
    "df['PO4 mg/L P'] = 0.79\n",
    "\n",
    "srcs['ddsd']=df"
   ]
  },
  {
   "cell_type": "markdown",
   "metadata": {},
   "source": [
    "## Tesoro"
   ]
  },
  {
   "cell_type": "code",
   "execution_count": 84,
   "metadata": {
    "collapsed": true
   },
   "outputs": [],
   "source": [
    "df=pd.read_csv(os.path.join(sources_path,'loading_study','Tesoro.csv'),\n",
    "               parse_dates=['Date'])\n",
    "df=df[df.Date>start_date]\n",
    "\n",
    "cols=[]\n",
    "\n",
    "col=df[(df.Pollutant=='Flow')&(df.Description=='E-001 Eff Daily Average')]\n",
    "col=col.set_index('Date')['Value'].to_frame('flow mgd')\n",
    "cols.append(col)\n",
    "\n",
    "col=df[(df.Pollutant=='NH3')&(df.Description=='E-001 Eff Daily Maximum')&(df.Unit=='mg/l')]\n",
    "col=col.set_index('Date')['Value'].to_frame('NH3 mg/L N')\n",
    "cols.append(col)\n",
    "\n",
    "df2=cols[0].join(cols[1:],how='outer')\n",
    "df,orig=df2,df\n",
    "\n",
    "#estimations\n",
    "df['NO3 mg/L N']=0.82\n",
    "df['TKN mg/L N']=6.75\n",
    "df['PO4 mg/L P']=0.06\n",
    "df['TP mg/L P']=0.24\n",
    "\n",
    "srcs['tesoro']=df"
   ]
  },
  {
   "cell_type": "markdown",
   "metadata": {},
   "source": [
    "## Smaller plants"
   ]
  },
  {
   "cell_type": "code",
   "execution_count": 85,
   "metadata": {
    "collapsed": false
   },
   "outputs": [],
   "source": [
    "small_plant(flow=2.1,NH3=0.58,NO3=21.29,PO4=3.61,\n",
    "            name='mt_view') ; "
   ]
  },
  {
   "cell_type": "code",
   "execution_count": 86,
   "metadata": {
    "collapsed": true
   },
   "outputs": [],
   "source": [
    "# Light housecleaning:\n",
    "for name in srcs:\n",
    "    df=srcs[name]\n",
    "    if df.index.name != 'Date':\n",
    "        df=df.set_index('Date')\n",
    "    # output is below, after including newer data\n",
    "    # df.to_csv(os.path.join(compile_path,'%s.csv'%name))\n",
    "    srcs[name]=df"
   ]
  },
  {
   "cell_type": "markdown",
   "metadata": {},
   "source": [
    "# Recent Data \n",
    "\n",
    "*(but not yet the HDR data)*"
   ]
  },
  {
   "cell_type": "code",
   "execution_count": 87,
   "metadata": {
    "code_folding": [
     61
    ],
    "collapsed": false
   },
   "outputs": [],
   "source": [
    "# Now bring in the more recent data\n",
    "eff_df=pd.read_csv(os.path.join(sources_path,\n",
    "                                \"final effluent_concentrations_Mar2015.csv\"),\n",
    "                   parse_dates=['Date'],\n",
    "                   na_values=['#DIV/0!'])\n",
    "\n",
    "def round_to_day(t):\n",
    "    return pd.Timestamp(t.date())\n",
    "\n",
    "# round date to day so the joins work better.\n",
    "eff_df['Date'] = eff_df.Date.apply(round_to_day)\n",
    "\n",
    "# final effluent_concentrations_Mar2015.csv\n",
    "# is missing temperature.\n",
    "# but \n",
    "# final effluent_concentrations_Sep2014.csv\n",
    "# has Temp min, Temp max.\n",
    "\n",
    "# hmm - pH has some values greater than 14. Those all belong to Central Marin.\n",
    "# Temperature means suggest that Rodeo reports Fahrenheit, and Central Marin\n",
    "# min temp is no good.\n",
    "eff_2014=pd.read_csv(os.path.join(sources_path,\n",
    "                                  \"final effluent_concentrations_Sep2014.csv\"),\n",
    "                     parse_dates=['Date'],\n",
    "                     na_values=['#DIV/0!','Jan-00'])\n",
    "\n",
    "# Some of the dates have times, most don't.  All appear to start with\n",
    "# M/D/YYYY\n",
    "\n",
    "dates=[pd.Timestamp(s.split()[0].replace('5014','2014'))\n",
    "       for s in eff_2014['Date'].values]\n",
    "eff_2014['Date']=dates\n",
    "\n",
    "cm=(eff_2014.Facility=='Central Marin Sanitation Agency')\n",
    "eff_2014.loc[ cm,['Temp min','Temp max','pH Max','pH min'] ]=np.nan\n",
    "\n",
    "rod=(eff_2014.Facility=='Rodeo Sanitary District')\n",
    "for fld in ['Temp min','Temp max']:\n",
    "    eff_2014.loc[ rod,fld] = (eff_2014.loc[ rod,fld]-32)*5./9\n",
    "\n",
    "\n",
    "def first_valid(*args):\n",
    "    vals=args[0].copy()\n",
    "    for a in args[1:]:\n",
    "        missing=np.isnan(vals)\n",
    "        vals[missing]=a[missing]\n",
    "    return vals\n",
    "\n",
    "eff_2014['temperature degC'] = first_valid( 0.5*(eff_2014['Temp max'] + eff_2014['Temp min']),\n",
    "                                            eff_2014['Temp max'],\n",
    "                                            eff_2014['Temp min'] )\n",
    "eff_2014['pH'] = first_valid(0.5*(eff_2014['pH Max'] + eff_2014['pH min']),\n",
    "                             eff_2014['pH Max'],\n",
    "                             eff_2014['pH min'])\n",
    "\n",
    "# limit to the columns we care about:\n",
    "eff_update=eff_2014.loc[:,['Date','Facility','temperature degC','pH']]\n",
    "\n",
    "# make a copy for idempotency\n",
    "srcs1=dict(srcs)\n",
    "\n",
    "def add_newer(name,facility,merge='error'):\n",
    "    \"\"\"\n",
    "    merge: 'error': overlapping data causes an exception\n",
    "    'old': use old data in overlapping regions\n",
    "    'new': use new data in overlapping regions\n",
    "    \"\"\"\n",
    "    df=srcs[name]\n",
    "    df_newer=eff_df[ eff_df.Facility==facility].groupby('Date').mean()\n",
    "    df_update=eff_update[ eff_update.Facility==facility ].groupby('Date').mean()\n",
    "    df_newer=df_newer.join(df_update,rsuffix='_2014',how='outer')\n",
    "\n",
    "    # in case this is run multiple times, replaces recent records\n",
    "    old_overlap_count=len( df.ix[ df.index>=df_newer.index.min() ] )\n",
    "    new_overlap_count=len( df_newer.ix[ df_newer.index<=df.index.max() ] )\n",
    "\n",
    "    if old_overlap_count:\n",
    "        msg=\"%s: %d old and %d new records overlap\"%(facility,\n",
    "                                                     old_overlap_count,\n",
    "                                                     new_overlap_count)\n",
    "        if merge == 'error':\n",
    "            raise Exception(msg)\n",
    "        elif merge=='old':\n",
    "            df_newer=df_newer.ix[ df_newer.index>df.index.max() ]\n",
    "        elif merge=='new':\n",
    "            df=df.ix[ df.index<df_newer.index.min() ]\n",
    "        else:\n",
    "            assert False\n",
    "        print(msg)\n",
    "\n",
    "    df=df[ df.index < df_newer.index.min() ]\n",
    "    df_newer.rename(columns={ 'Flow  (MGD)':'flow mgd',\n",
    "                              'Peak Flow (MGD)':'peak_flow mgd',\n",
    "                              'TN (mg/L)':'TN mg/L N', \n",
    "                              'TDN (mg/L)':'TDN mg/L N',\n",
    "                              'TKN (mg/L)':'TKN mg/L N',\n",
    "                              'SKN (mg/L)':'SKN mg/L N',\n",
    "                              'NO3 (mg/L)':'NO3 mg/L N', \n",
    "                              'NO2 (mg/L)':'NO2 mg/L N',\n",
    "                              'Total NH3 (mg/L)':'NH3 mg/L N',\n",
    "                              'Urea* (mg/L)':'urea* mg/L N',  # NOTE: assumption\n",
    "                              'TP (mg/L)':'TP mg/L P', \n",
    "                              'TDP (mg/L)':'TDP mg/L P',\n",
    "                              'DRP** (mg/L)':'DRP** mg/L P',\n",
    "                              'TSS (mg/L)':'TSS mg/L',\n",
    "                              'TRP (mg/L)':'TRP mg/L P'},\n",
    "                    inplace=True)\n",
    "    # in a few cases (DDSD, looking at you) there are notes in weird places,\n",
    "    # like the TRP field.\n",
    "    def float_or_bust(f):\n",
    "        try:\n",
    "            return float(f)\n",
    "        except ValueError:\n",
    "            return np.nan\n",
    "    for fld in ['TRP mg/L P']:\n",
    "        if fld in df_newer.columns and df_newer[fld].dtype == object:\n",
    "            df_newer[fld]=df_newer[fld].apply(float_or_bust)\n",
    "    df=pd.concat([df,df_newer])\n",
    "    srcs1[name]=df\n",
    "    return df"
   ]
  },
  {
   "cell_type": "code",
   "execution_count": 90,
   "metadata": {
    "collapsed": false
   },
   "outputs": [
    {
     "name": "stdout",
     "output_type": "stream",
     "text": [
      "Central Marin Sanitation Agency: 36 old and 3 new records overlap\n",
      "San Jose/Santa Clara Water Pollution Control Plant: 6 old and 13 new records overlap\n",
      "Sonoma Valley County Sanitation District: 51 old and 1 new records overlap\n"
     ]
    }
   ],
   "source": [
    "# Check on central_marin and sonoma_valley - the old data significantly\n",
    "# overlaps with the new.  Central Marin: the new data is monthly, but has\n",
    "# a lot more parameters.  No appreciable variation which is captured by the\n",
    "# old daily data and not the new monthly, so let the old just get replaced\n",
    "# in the case of Sonoma Valley, it's just one record of the new data, \n",
    "# and a lot of the old.  Keep the old data.\n",
    "# San Jose: old data is monthly, new data is bi-weekly. or is it semi-monthly?\n",
    "\n",
    "add_newer('american','City of American Canyon')\n",
    "add_newer('benicia','City of Benicia WWTP')\n",
    "add_newer('calistoga','City of Calistoga WWTP')\n",
    "add_newer('cccsd','Central Contra Costa Sanitary District')\n",
    "add_newer('chevron','Chevron Richmond Refinery')\n",
    "add_newer('burlingame','City of Burlingame WWTF')\n",
    "add_newer('st_helena','City of St. Helena Waste Water Treatment Plant')\n",
    "add_newer('sunnyvale','City of Sunnyvale')\n",
    "add_newer('palo_alto','City of Palo Alto RWQCP')\n",
    "add_newer('petaluma','City of Petaluma')\n",
    "add_newer('central_marin','Central Marin Sanitation Agency',merge='new')\n",
    "add_newer('ddsd','Delta Diablo Sanitation District')\n",
    "add_newer('ebda','EBDA')\n",
    "add_newer('ebmud','East Bay Municipal Utility District')\n",
    "add_newer('fs','Fairfield - Suisun Sewer District')\n",
    "add_newer('pinole','Pinole-Hercules WPCP')\n",
    "add_newer('lg','Las Gallinas Valley Sanitary District')\n",
    "add_newer('millbrae','City of Millbrae WPCP')\n",
    "add_newer('mt_view','Mt. View Sanitary District')\n",
    "add_newer('novato','Novato Sanitary District')\n",
    "add_newer('napa','Napa Sanitation District')\n",
    "add_newer('phillips66','Phillips 66 San Francisco Refinery')\n",
    "add_newer('rodeo','Rodeo Sanitary District')\n",
    "add_newer('san_mateo','City of San Mateo')\n",
    "add_newer('sasm','Sewerage Agency of Southern Marin')\n",
    "add_newer('sausalito','Sausalito - Marin City Sanitary District')\n",
    "add_newer('sfo','San Francisco International Airport - MLTP')\n",
    "add_newer('shell','Shell Martinez Refinery')\n",
    "add_newer('san_jose','San Jose/Santa Clara Water Pollution Control Plant',merge='new')\n",
    "add_newer('sf_southeast','Southeast Water Pollution Control Plant CCSF')\n",
    "add_newer('south_sf','South San Francisco-San Bruno Water Quality Control Plant')\n",
    "add_newer('sonoma_valley','Sonoma Valley County Sanitation District',merge='old')\n",
    "add_newer('treasure_island','Treasure Island Water Pollution Control Plant')\n",
    "add_newer('valero','Valero Refining Company - CA')\n",
    "add_newer('vallejo','Vallejo Sanitation & Flood Control District')\n",
    "add_newer('west_county_richmond','West County Agency')\n",
    "add_newer('yountville','Town of Yountville')\n",
    "add_newer('tesoro','Tesoro Golden Eagle Refinery')\n",
    "add_newer('marin5','Sanitary District No.5 of Marin County Main Plant')\n",
    "# This plant is jointly operated by Crockett and C&H, but I believe owned\n",
    "# by C&H.\n",
    "add_newer('ch','Phillip F. Meads Water Treatment Plant')\n",
    "# changed names 2015/06\n",
    "add_newer('south_bayside','Silicon Valley Clean Water')\n",
    "\n",
    "None;\n",
    "# There is also Marin SD5 Paradise Cove, but it's flow is tiny.  Really tiny.\n",
    "#add_newer('XXX','Sanitary District No.5 of Marin County Paradise Cove Plant')\n",
    "\n",
    "# compared to the old csv_flows files, only sf-north_point.csv appears to be missing."
   ]
  },
  {
   "cell_type": "code",
   "execution_count": 91,
   "metadata": {
    "collapsed": false
   },
   "outputs": [],
   "source": [
    "# Write final csvs:\n",
    "for name in srcs1:\n",
    "    srcs1[name].to_csv(os.path.join(compile_path,'%s.csv'%name))"
   ]
  },
  {
   "cell_type": "markdown",
   "metadata": {},
   "source": [
    "# HDR Data\n",
    "\n",
    "These have already been processed to a degree by HDR.  Each value represents an average flow or\n",
    "load for the given month and discharge.  \n"
   ]
  },
  {
   "cell_type": "code",
   "execution_count": 26,
   "metadata": {
    "collapsed": false
   },
   "outputs": [],
   "source": [
    "xl_fn=\"../sources/BACWA_HardGARdata_20161027.xlsx\"\n",
    "\n",
    "raw_df=pd.read_excel(xl_fn,sheetname=0,header=None,parse_cols=\"E:AV\",skiprows=15)\n",
    "raw=raw_df.values"
   ]
  },
  {
   "cell_type": "code",
   "execution_count": 61,
   "metadata": {
    "collapsed": false
   },
   "outputs": [],
   "source": [
    "block_starts=[0] + [i+1 \n",
    "                    for i in range(raw.shape[0]-1)\n",
    "                    if raw[i,3] is np.nan and isinstance(raw[i+1,3],unicode)]\n",
    "block_ends=block_starts[1:] + [raw.shape[0]]\n",
    "block_starts=np.array(block_starts)\n",
    "\n",
    "blocks=[]\n",
    "for blk_start,blk_end in zip(block_starts,block_ends):\n",
    "\n",
    "    hdr_df=raw_df.iloc[blk_start:blk_start+3]\n",
    "    blk_df=raw_df.iloc[blk_start+3:blk_end] # 3 rows of header info\n",
    "\n",
    "    hdr_df.head()\n",
    "    blk_unit=hdr_df.iloc[0,1]\n",
    "    blk_var=hdr_df.iloc[0,3]\n",
    "    long_names=hdr_df.iloc[1,3:]\n",
    "    short_names=hdr_df.iloc[2,3:]\n",
    "\n",
    "    # mark columns to remove with nan label\n",
    "    blk_df.columns=['month','year','nan']+list(short_names)\n",
    "\n",
    "    valid=[str(f) != 'nan' for f in blk_df.columns]\n",
    "    blk_df=blk_df.iloc[:,valid]\n",
    "    blk_df['analyte']=blk_var+\"_\"+blk_unit\n",
    "    blocks.append(blk_df)"
   ]
  },
  {
   "cell_type": "code",
   "execution_count": 109,
   "metadata": {
    "collapsed": false
   },
   "outputs": [
    {
     "data": {
      "text/html": [
       "<div>\n",
       "<table border=\"1\" class=\"dataframe\">\n",
       "  <thead>\n",
       "    <tr style=\"text-align: right;\">\n",
       "      <th></th>\n",
       "      <th>analyte</th>\n",
       "      <th>year</th>\n",
       "      <th>month</th>\n",
       "      <th>site</th>\n",
       "      <th>value</th>\n",
       "    </tr>\n",
       "  </thead>\n",
       "  <tbody>\n",
       "    <tr>\n",
       "      <th>0</th>\n",
       "      <td>Flow_mgd</td>\n",
       "      <td>2012</td>\n",
       "      <td>7</td>\n",
       "      <td>San Pablo Bay</td>\n",
       "      <td>15.9891</td>\n",
       "    </tr>\n",
       "    <tr>\n",
       "      <th>1</th>\n",
       "      <td>Flow_mgd</td>\n",
       "      <td>2012</td>\n",
       "      <td>8</td>\n",
       "      <td>San Pablo Bay</td>\n",
       "      <td>15.852</td>\n",
       "    </tr>\n",
       "    <tr>\n",
       "      <th>2</th>\n",
       "      <td>Flow_mgd</td>\n",
       "      <td>2012</td>\n",
       "      <td>9</td>\n",
       "      <td>San Pablo Bay</td>\n",
       "      <td>15.3408</td>\n",
       "    </tr>\n",
       "    <tr>\n",
       "      <th>3</th>\n",
       "      <td>Flow_mgd</td>\n",
       "      <td>2012</td>\n",
       "      <td>10</td>\n",
       "      <td>San Pablo Bay</td>\n",
       "      <td>21.3174</td>\n",
       "    </tr>\n",
       "    <tr>\n",
       "      <th>4</th>\n",
       "      <td>Flow_mgd</td>\n",
       "      <td>2012</td>\n",
       "      <td>11</td>\n",
       "      <td>San Pablo Bay</td>\n",
       "      <td>48.3963</td>\n",
       "    </tr>\n",
       "  </tbody>\n",
       "</table>\n",
       "</div>"
      ],
      "text/plain": [
       "    analyte  year  month           site    value\n",
       "0  Flow_mgd  2012      7  San Pablo Bay  15.9891\n",
       "1  Flow_mgd  2012      8  San Pablo Bay   15.852\n",
       "2  Flow_mgd  2012      9  San Pablo Bay  15.3408\n",
       "3  Flow_mgd  2012     10  San Pablo Bay  21.3174\n",
       "4  Flow_mgd  2012     11  San Pablo Bay  48.3963"
      ]
     },
     "execution_count": 109,
     "metadata": {},
     "output_type": "execute_result"
    }
   ],
   "source": [
    "# time and analyte are in rows, station is in columns\n",
    "df=pd.concat(blocks)\n",
    "\n",
    "# moves the site name columns into a long format dataframe,\n",
    "# preserving analyte, year, month to identify rows.\n",
    "df4=pd.melt(df,id_vars=['analyte','year','month'],var_name='site')\n",
    "df5=df4[ ~df4.value.isnull() ]\n",
    "df5.head()"
   ]
  },
  {
   "cell_type": "code",
   "execution_count": 119,
   "metadata": {
    "collapsed": false
   },
   "outputs": [],
   "source": [
    "renames={'Ammonia, Total (as N)_kg/day':'ammonia_kgN_per_day',\n",
    "        'Flow_mgd':'flow_mgd',\n",
    "        'TKN_kg/day':'TKN_kgN_per_day',\n",
    "        'Nitrite Plus Nitrate (as N)_kg/day':'NOx_kgN_per_day',\n",
    "        'Nitrogen, Total (as N)_kg/day':'total_kgN_per_day',\n",
    "        'Phosphorus, Total (as P)_kg/day':'total_kgP_per_day',\n",
    "        'Orthophosphate, Dissolved (as P)_kg/day':'diss_OrthoP_kgP_per_day'}\n",
    "df6=df5.copy()\n",
    "df6['analyte']=df6.analyte.map(renames)\n",
    "# make sure we didn't accidentally drop some\n",
    "assert len(df6.analyte.unique()) == len(df5.analyte.unique())"
   ]
  },
  {
   "cell_type": "code",
   "execution_count": 121,
   "metadata": {
    "collapsed": true
   },
   "outputs": [],
   "source": [
    "df6.to_csv(os.path.join(compile_path,'hdr_parsed_long.csv'),index=False)"
   ]
  },
  {
   "cell_type": "code",
   "execution_count": null,
   "metadata": {
    "collapsed": true
   },
   "outputs": [],
   "source": [
    "\n",
    "\n",
    "\n",
    "\n",
    "\n",
    "\n",
    "\n",
    "\n",
    "\n"
   ]
  }
 ],
 "metadata": {
  "kernelspec": {
   "display_name": "Python 2",
   "language": "python",
   "name": "python2"
  },
  "language_info": {
   "codemirror_mode": {
    "name": "ipython",
    "version": 2
   },
   "file_extension": ".py",
   "mimetype": "text/x-python",
   "name": "python",
   "nbconvert_exporter": "python",
   "pygments_lexer": "ipython2",
   "version": "2.7.11"
  }
 },
 "nbformat": 4,
 "nbformat_minor": 0
}
